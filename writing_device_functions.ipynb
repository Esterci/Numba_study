{
 "cells": [
  {
   "cell_type": "markdown",
   "metadata": {},
   "source": [
    "https://numba.readthedocs.io/en/stable/cuda/device-functions.html"
   ]
  },
  {
   "cell_type": "code",
   "execution_count": 3,
   "metadata": {},
   "outputs": [
    {
     "name": "stderr",
     "output_type": "stream",
     "text": [
      "/home/thiago.esterci/.conda/envs/CuNumba/lib/python3.10/site-packages/numba/cuda/dispatcher.py:536: NumbaPerformanceWarning: Grid size 2 will likely result in GPU under-utilization due to low occupancy.\n",
      "  warn(NumbaPerformanceWarning(msg))\n"
     ]
    },
    {
     "data": {
      "text/plain": [
       "array([ 0,  2,  6, 12, 20, 30, 42, 56, 72, 90])"
      ]
     },
     "execution_count": 3,
     "metadata": {},
     "output_type": "execute_result"
    }
   ],
   "source": [
    "import numpy as np\n",
    "from numba import cuda\n",
    "\n",
    "@cuda.jit(device=True)\n",
    "def a_device_function(a, b):\n",
    "    return a + b\n",
    "\n",
    "@cuda.jit\n",
    "def my_kernel(arr):\n",
    "    for i in range(1,len(arr)):\n",
    "        arr[i] += a_device_function(arr[i],arr[i-1])\n",
    "\n",
    "arr = np.arange(10)\n",
    "\n",
    "d_arr = cuda.to_device(arr)\n",
    "\n",
    "my_kernel[2, 5](d_arr)\n",
    "\n",
    "result_array = d_arr.copy_to_host()\n",
    "\n",
    "result_array\n"
   ]
  }
 ],
 "metadata": {
  "kernelspec": {
   "display_name": "CuNumba",
   "language": "python",
   "name": "python3"
  },
  "language_info": {
   "codemirror_mode": {
    "name": "ipython",
    "version": 3
   },
   "file_extension": ".py",
   "mimetype": "text/x-python",
   "name": "python",
   "nbconvert_exporter": "python",
   "pygments_lexer": "ipython3",
   "version": "3.10.14"
  }
 },
 "nbformat": 4,
 "nbformat_minor": 2
}
